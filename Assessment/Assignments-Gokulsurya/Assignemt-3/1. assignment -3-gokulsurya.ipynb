{
 "cells": [
  {
   "cell_type": "markdown",
   "id": "918f48bb",
   "metadata": {},
   "source": [
    "# import the libraries"
   ]
  },
  {
   "cell_type": "code",
   "execution_count": 1,
   "id": "c17b5c83",
   "metadata": {},
   "outputs": [],
   "source": [
    "import tensorflow as tf\n",
    "from tensorflow.keras.models import Sequential\n",
    "from tensorflow.keras.layers import Dense\n"
   ]
  },
  {
   "cell_type": "code",
   "execution_count": 2,
   "id": "0b5d5430",
   "metadata": {},
   "outputs": [],
   "source": [
    "from tensorflow.keras.layers import Convolution2D\n",
    "from tensorflow.keras.layers import MaxPooling2D\n",
    "from tensorflow.keras.layers import Flatten"
   ]
  },
  {
   "cell_type": "markdown",
   "id": "b2544b1a",
   "metadata": {},
   "source": [
    "# STEP 2:import the preprocess library of images [IMAGE AGUMENTATION]"
   ]
  },
  {
   "cell_type": "code",
   "execution_count": 3,
   "id": "2697de6f",
   "metadata": {},
   "outputs": [],
   "source": [
    "from tensorflow.keras.preprocessing.image import ImageDataGenerator"
   ]
  },
  {
   "cell_type": "code",
   "execution_count": 4,
   "id": "1f60c8d8",
   "metadata": {},
   "outputs": [],
   "source": [
    "train_datagen = ImageDataGenerator(rescale=1./255,shear_range=0.2,zoom_range=0.2,horizontal_flip=True,vertical_flip=True)\n",
    "#rescale=pixel value rescaling to 0 to 1 from 0 to 255\n",
    "#shear_range = counterclockwise rotation (anti clockwise rotation)\n"
   ]
  },
  {
   "cell_type": "code",
   "execution_count": 5,
   "id": "8b5821e3",
   "metadata": {},
   "outputs": [],
   "source": [
    "test_datagen=ImageDataGenerator(rescale=1./255)"
   ]
  },
  {
   "cell_type": "code",
   "execution_count": 6,
   "id": "6f0e8134",
   "metadata": {},
   "outputs": [],
   "source": [
    "#load the images data"
   ]
  },
  {
   "cell_type": "code",
   "execution_count": 7,
   "id": "442a1478",
   "metadata": {},
   "outputs": [
    {
     "name": "stdout",
     "output_type": "stream",
     "text": [
      "Found 4317 images belonging to 5 classes.\n"
     ]
    }
   ],
   "source": [
    "x_train=train_datagen.flow_from_directory(r\"D:\\New folder\\ibm\\assignment 3\\Training\",target_size=(64,64),batch_size=32,class_mode=\"categorical\")"
   ]
  },
  {
   "cell_type": "code",
   "execution_count": 8,
   "id": "c442d819",
   "metadata": {},
   "outputs": [
    {
     "name": "stdout",
     "output_type": "stream",
     "text": [
      "Found 3729 images belonging to 5 classes.\n"
     ]
    }
   ],
   "source": [
    "x_test=test_datagen.flow_from_directory(r\"D:\\New folder\\ibm\\assignment 3\\Testing\",target_size=(64,64),batch_size=32,class_mode=\"categorical\")"
   ]
  },
  {
   "cell_type": "markdown",
   "id": "d1c0f6ea",
   "metadata": {},
   "source": [
    "# create the model and Add Layers (Convolution,MaxPooling,Flatten,Dense-(Hidden Layers),Output)\n"
   ]
  },
  {
   "cell_type": "code",
   "execution_count": 10,
   "id": "3176a75f",
   "metadata": {},
   "outputs": [],
   "source": [
    "#initalize the model"
   ]
  },
  {
   "cell_type": "code",
   "execution_count": 11,
   "id": "4b51abf7",
   "metadata": {},
   "outputs": [],
   "source": [
    "model=Sequential()"
   ]
  },
  {
   "cell_type": "code",
   "execution_count": 12,
   "id": "7b230179",
   "metadata": {},
   "outputs": [],
   "source": [
    "#add convolutional layer\n",
    "model.add(Convolution2D(32,(3,3),input_shape=(64,64,3),activation='relu'))\n",
    "# 32=> no of feature detectors\n",
    "# (3,3) => Kernel size (feature dtector size => 3*3 matrix)"
   ]
  },
  {
   "cell_type": "code",
   "execution_count": 13,
   "id": "52be6ebf",
   "metadata": {},
   "outputs": [],
   "source": [
    "#add maxpoolin layer\n",
    "model.add(MaxPooling2D(pool_size=(2,2)))"
   ]
  },
  {
   "cell_type": "code",
   "execution_count": 14,
   "id": "0363e304",
   "metadata": {},
   "outputs": [],
   "source": [
    "#add Flatten layer => input layer to ANN\n",
    "model.add(Flatten())"
   ]
  },
  {
   "cell_type": "code",
   "execution_count": 15,
   "id": "4291f042",
   "metadata": {},
   "outputs": [],
   "source": [
    "#add hidden layer\n",
    "model.add(Dense(units=300,kernel_initializer=\"random_uniform\",activation=\"relu\"))"
   ]
  },
  {
   "cell_type": "code",
   "execution_count": 16,
   "id": "7bd1cbf6",
   "metadata": {},
   "outputs": [],
   "source": [
    "model.add(Dense(units=200,kernel_initializer=\"random_uniform\",activation=\"relu\"))"
   ]
  },
  {
   "cell_type": "code",
   "execution_count": 17,
   "id": "634ad74c",
   "metadata": {},
   "outputs": [],
   "source": [
    "#add output layer\n",
    "model.add(Dense(units=5,kernel_initializer=\"random_uniform\",activation=\"softmax\"))"
   ]
  },
  {
   "cell_type": "markdown",
   "id": "7c11f53c",
   "metadata": {},
   "source": [
    "# complie the model"
   ]
  },
  {
   "cell_type": "code",
   "execution_count": 18,
   "id": "10178eec",
   "metadata": {},
   "outputs": [],
   "source": [
    "#complie the model\n",
    "model.compile(loss=\"categorical_crossentropy\",optimizer=\"adam\",metrics=[\"accuracy\"])"
   ]
  },
  {
   "cell_type": "markdown",
   "id": "04797168",
   "metadata": {},
   "source": [
    "# Fit The Model"
   ]
  },
  {
   "cell_type": "code",
   "execution_count": 19,
   "id": "42eaa545",
   "metadata": {},
   "outputs": [],
   "source": [
    "#train the model"
   ]
  },
  {
   "cell_type": "code",
   "execution_count": 20,
   "id": "407880e5",
   "metadata": {},
   "outputs": [
    {
     "name": "stderr",
     "output_type": "stream",
     "text": [
      "C:\\Users\\nithy\\AppData\\Local\\Temp\\ipykernel_4964\\1836606223.py:1: UserWarning: `Model.fit_generator` is deprecated and will be removed in a future version. Please use `Model.fit`, which supports generators.\n",
      "  model.fit_generator(x_train,steps_per_epoch=135,epochs=25,validation_data=x_test,validation_steps=116)\n"
     ]
    },
    {
     "name": "stdout",
     "output_type": "stream",
     "text": [
      "Epoch 1/25\n",
      "135/135 [==============================] - 47s 340ms/step - loss: 1.2497 - accuracy: 0.4591 - val_loss: 1.1372 - val_accuracy: 0.5399\n",
      "Epoch 2/25\n",
      "135/135 [==============================] - 49s 360ms/step - loss: 1.0740 - accuracy: 0.5685 - val_loss: 1.0971 - val_accuracy: 0.5528\n",
      "Epoch 3/25\n",
      "135/135 [==============================] - 62s 460ms/step - loss: 0.9847 - accuracy: 0.6092 - val_loss: 1.0214 - val_accuracy: 0.5978\n",
      "Epoch 4/25\n",
      "135/135 [==============================] - 47s 346ms/step - loss: 0.9271 - accuracy: 0.6400 - val_loss: 0.9005 - val_accuracy: 0.6439\n",
      "Epoch 5/25\n",
      "135/135 [==============================] - 49s 360ms/step - loss: 0.8941 - accuracy: 0.6532 - val_loss: 0.8406 - val_accuracy: 0.6735\n",
      "Epoch 6/25\n",
      "135/135 [==============================] - 45s 333ms/step - loss: 0.8498 - accuracy: 0.6711 - val_loss: 0.7654 - val_accuracy: 0.7031\n",
      "Epoch 7/25\n",
      "135/135 [==============================] - 47s 347ms/step - loss: 0.8070 - accuracy: 0.6894 - val_loss: 0.8127 - val_accuracy: 0.6870\n",
      "Epoch 8/25\n",
      "135/135 [==============================] - 54s 400ms/step - loss: 0.7925 - accuracy: 0.6938 - val_loss: 0.7420 - val_accuracy: 0.7112\n",
      "Epoch 9/25\n",
      "135/135 [==============================] - 50s 370ms/step - loss: 0.7634 - accuracy: 0.7056 - val_loss: 0.7018 - val_accuracy: 0.7287\n",
      "Epoch 10/25\n",
      "135/135 [==============================] - 49s 366ms/step - loss: 0.7365 - accuracy: 0.7260 - val_loss: 0.7483 - val_accuracy: 0.6975\n",
      "Epoch 11/25\n",
      "135/135 [==============================] - 47s 350ms/step - loss: 0.6937 - accuracy: 0.7357 - val_loss: 0.6579 - val_accuracy: 0.7492\n",
      "Epoch 12/25\n",
      "135/135 [==============================] - 48s 355ms/step - loss: 0.6791 - accuracy: 0.7452 - val_loss: 0.6207 - val_accuracy: 0.7629\n",
      "Epoch 13/25\n",
      "135/135 [==============================] - 48s 354ms/step - loss: 0.6577 - accuracy: 0.7570 - val_loss: 0.6213 - val_accuracy: 0.7664\n",
      "Epoch 14/25\n",
      "135/135 [==============================] - 49s 361ms/step - loss: 0.6252 - accuracy: 0.7598 - val_loss: 0.5178 - val_accuracy: 0.8020\n",
      "Epoch 15/25\n",
      "135/135 [==============================] - 49s 364ms/step - loss: 0.6210 - accuracy: 0.7644 - val_loss: 0.7458 - val_accuracy: 0.7115\n",
      "Epoch 16/25\n",
      "135/135 [==============================] - 52s 382ms/step - loss: 0.5770 - accuracy: 0.7788 - val_loss: 0.5798 - val_accuracy: 0.7823\n",
      "Epoch 17/25\n",
      "135/135 [==============================] - 48s 353ms/step - loss: 0.5525 - accuracy: 0.7913 - val_loss: 0.4777 - val_accuracy: 0.8219\n",
      "Epoch 18/25\n",
      "135/135 [==============================] - 48s 353ms/step - loss: 0.5171 - accuracy: 0.8094 - val_loss: 0.4574 - val_accuracy: 0.8316\n",
      "Epoch 19/25\n",
      "135/135 [==============================] - 47s 346ms/step - loss: 0.5285 - accuracy: 0.7996 - val_loss: 0.4851 - val_accuracy: 0.8144\n",
      "Epoch 20/25\n",
      "135/135 [==============================] - 49s 360ms/step - loss: 0.4936 - accuracy: 0.8221 - val_loss: 0.5049 - val_accuracy: 0.8179\n",
      "Epoch 21/25\n",
      "135/135 [==============================] - 54s 401ms/step - loss: 0.4592 - accuracy: 0.8309 - val_loss: 0.4878 - val_accuracy: 0.8209\n",
      "Epoch 22/25\n",
      "135/135 [==============================] - 58s 426ms/step - loss: 0.4862 - accuracy: 0.8182 - val_loss: 0.4028 - val_accuracy: 0.8491\n",
      "Epoch 23/25\n",
      "135/135 [==============================] - 46s 337ms/step - loss: 0.4295 - accuracy: 0.8379 - val_loss: 0.3461 - val_accuracy: 0.8715\n",
      "Epoch 24/25\n",
      "135/135 [==============================] - 48s 354ms/step - loss: 0.4194 - accuracy: 0.8490 - val_loss: 0.3408 - val_accuracy: 0.8734\n",
      "Epoch 25/25\n",
      "135/135 [==============================] - 50s 370ms/step - loss: 0.4121 - accuracy: 0.8462 - val_loss: 0.3298 - val_accuracy: 0.8815\n"
     ]
    },
    {
     "data": {
      "text/plain": [
       "<keras.callbacks.History at 0x2888bf46160>"
      ]
     },
     "execution_count": 20,
     "metadata": {},
     "output_type": "execute_result"
    }
   ],
   "source": [
    "model.fit_generator(x_train,steps_per_epoch=135,epochs=25,validation_data=x_test,validation_steps=116)\n",
    "#stpes_per_epoch=no of train images/batch size"
   ]
  },
  {
   "cell_type": "markdown",
   "id": "d3bf8b36",
   "metadata": {},
   "source": [
    "# Save The Model"
   ]
  },
  {
   "cell_type": "code",
   "execution_count": 22,
   "id": "66b98195",
   "metadata": {},
   "outputs": [],
   "source": [
    "model.save(\"flowers.h5\")"
   ]
  }
 ],
 "metadata": {
  "kernelspec": {
   "display_name": "Python 3 (ipykernel)",
   "language": "python",
   "name": "python3"
  },
  "language_info": {
   "codemirror_mode": {
    "name": "ipython",
    "version": 3
   },
   "file_extension": ".py",
   "mimetype": "text/x-python",
   "name": "python",
   "nbconvert_exporter": "python",
   "pygments_lexer": "ipython3",
   "version": "3.9.12"
  }
 },
 "nbformat": 4,
 "nbformat_minor": 5
}
