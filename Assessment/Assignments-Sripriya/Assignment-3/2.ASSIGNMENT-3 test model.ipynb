{
 "cells": [
  {
   "cell_type": "markdown",
   "id": "0f33fa59",
   "metadata": {},
   "source": [
    "# test the model"
   ]
  },
  {
   "cell_type": "code",
   "execution_count": 4,
   "id": "0a3193b6",
   "metadata": {},
   "outputs": [],
   "source": [
    "from tensorflow.keras.models import load_model\n",
    "from tensorflow.keras.preprocessing import image"
   ]
  },
  {
   "cell_type": "code",
   "execution_count": 5,
   "id": "d7403f2a",
   "metadata": {},
   "outputs": [],
   "source": [
    "import numpy as np"
   ]
  },
  {
   "cell_type": "code",
   "execution_count": 6,
   "id": "a6248b29",
   "metadata": {},
   "outputs": [],
   "source": [
    "model=load_model(\"flowers.h5\")"
   ]
  },
  {
   "cell_type": "code",
   "execution_count": 7,
   "id": "6919e1d9",
   "metadata": {},
   "outputs": [],
   "source": [
    "img=image.load_img(r\"D:\\New folder\\ibm\\assignment 3\\sunflower.jpg\",target_size=(64,64))"
   ]
  },
  {
   "cell_type": "code",
   "execution_count": 8,
   "id": "aef7d363",
   "metadata": {},
   "outputs": [
    {
     "data": {
      "image/png": "[encoded data removed]",
      "text/plain": [
       "<PIL.Image.Image image mode=RGB size=64x64 at 0x1BA140CD340>"
      ]
     },
     "execution_count": 8,
     "metadata": {},
     "output_type": "execute_result"
    }
   ],
   "source": [
    "img"
   ]
  },
  {
   "cell_type": "code",
   "execution_count": 9,
   "id": "58b3a8f6",
   "metadata": {},
   "outputs": [
    {
     "data": {
      "text/plain": [
       "PIL.Image.Image"
      ]
     },
     "execution_count": 9,
     "metadata": {},
     "output_type": "execute_result"
    }
   ],
   "source": [
    "type(img)"
   ]
  },
  {
   "cell_type": "code",
   "execution_count": 10,
   "id": "59575e4f",
   "metadata": {},
   "outputs": [],
   "source": [
    "x=image.img_to_array(img)"
   ]
  },
  {
   "cell_type": "code",
   "execution_count": 11,
   "id": "1029d9e7",
   "metadata": {},
   "outputs": [
    {
     "data": {
      "text/plain": [
       "array([[[ 93., 128.,  48.],\n",
       "        [ 99., 130.,  63.],\n",
       "        [105., 133.,  56.],\n",
       "        ...,\n",
       "        [ 68., 111.,  29.],\n",
       "        [ 93., 132.,  51.],\n",
       "        [107., 138.,  60.]],\n",
       "\n",
       "       [[131., 157.,  84.],\n",
       "        [138., 159.,  94.],\n",
       "        [143., 165.,  80.],\n",
       "        ...,\n",
       "        [ 86., 119.,  28.],\n",
       "        [108., 138.,  48.],\n",
       "        [115., 143.,  56.]],\n",
       "\n",
       "       [[146., 170.,  84.],\n",
       "        [156., 175.,  96.],\n",
       "        [161., 181.,  86.],\n",
       "        ...,\n",
       "        [124., 141.,  37.],\n",
       "        [135., 153.,  51.],\n",
       "        [133., 153.,  54.]],\n",
       "\n",
       "       ...,\n",
       "\n",
       "       [[113., 134.,  57.],\n",
       "        [111., 133.,  50.],\n",
       "        [100., 125.,  34.],\n",
       "        ...,\n",
       "        [ 77., 109.,   0.],\n",
       "        [ 64.,  99.,   5.],\n",
       "        [ 46.,  85.,   6.]],\n",
       "\n",
       "       [[133., 158., 103.],\n",
       "        [117., 143.,  78.],\n",
       "        [ 93., 126.,  47.],\n",
       "        ...,\n",
       "        [ 79., 108.,   2.],\n",
       "        [ 65.,  98.,   7.],\n",
       "        [ 47.,  84.,   7.]],\n",
       "\n",
       "       [[132., 157., 117.],\n",
       "        [114., 142.,  91.],\n",
       "        [ 79., 116.,  49.],\n",
       "        ...,\n",
       "        [ 76., 103.,   0.],\n",
       "        [ 64.,  94.,   6.],\n",
       "        [ 53.,  87.,  13.]]], dtype=float32)"
      ]
     },
     "execution_count": 11,
     "metadata": {},
     "output_type": "execute_result"
    }
   ],
   "source": [
    "x"
   ]
  },
  {
   "cell_type": "code",
   "execution_count": 12,
   "id": "ddd4123b",
   "metadata": {},
   "outputs": [
    {
     "data": {
      "text/plain": [
       "(64, 64, 3)"
      ]
     },
     "execution_count": 12,
     "metadata": {},
     "output_type": "execute_result"
    }
   ],
   "source": [
    "x.shape"
   ]
  },
  {
   "cell_type": "code",
   "execution_count": 13,
   "id": "4263a267",
   "metadata": {},
   "outputs": [],
   "source": [
    "x=np.expand_dims(x,axis=0)"
   ]
  },
  {
   "cell_type": "code",
   "execution_count": 14,
   "id": "9619f5a6",
   "metadata": {},
   "outputs": [
    {
     "data": {
      "text/plain": [
       "(1, 64, 64, 3)"
      ]
     },
     "execution_count": 14,
     "metadata": {},
     "output_type": "execute_result"
    }
   ],
   "source": [
    "x.shape"
   ]
  },
  {
   "cell_type": "code",
   "execution_count": 15,
   "id": "7a177534",
   "metadata": {},
   "outputs": [
    {
     "name": "stdout",
     "output_type": "stream",
     "text": [
      "1/1 [==============================] - 0s 194ms/step\n"
     ]
    }
   ],
   "source": [
    "pred_prob=model.predict(x)"
   ]
  },
  {
   "cell_type": "code",
   "execution_count": 16,
   "id": "28d8555c",
   "metadata": {},
   "outputs": [
    {
     "data": {
      "text/plain": [
       "array([[0., 0., 0., 1., 0.]], dtype=float32)"
      ]
     },
     "execution_count": 16,
     "metadata": {},
     "output_type": "execute_result"
    }
   ],
   "source": [
    "pred_prob"
   ]
  },
  {
   "cell_type": "code",
   "execution_count": 17,
   "id": "438b5b16",
   "metadata": {},
   "outputs": [],
   "source": [
    " pred_prob=model.predict(x)"
   ]
  },
  {
   "cell_type": "code",
   "execution_count": 18,
   "id": "fdcf6756",
   "metadata": {},
   "outputs": [],
   "source": [
    "pred_id=pred_prob.argmax(axis=1)[0]"
   ]
  },
  {
   "cell_type": "code",
   "execution_count": 19,
   "id": "9df7bb89",
   "metadata": {},
   "outputs": [
    {
     "data": {
      "text/plain": [
       "3"
      ]
     },
     "execution_count": 19,
     "metadata": {},
     "output_type": "execute_result"
    }
   ],
   "source": [
    "pred_id"
   ]
  },
  {
   "cell_type": "code",
   "execution_count": 20,
   "id": "7cc57ffa",
   "metadata": {},
   "outputs": [
    {
     "name": "stdout",
     "output_type": "stream",
     "text": [
      "predicted flower is sunflower\n"
     ]
    }
   ],
   "source": [
    "print(\"predicted flower is\",str(class_name[pred_id]))"
   ]
  },
  {
   "cell_type": "code",
   "execution_count": 22,
   "id": "aecead78",
   "metadata": {},
   "outputs": [],
   "source": [
    "img=image.load_img(r\"D:\\New folder\\ibm\\assignment 3\\rose.jpg\",target_size=(64,64))\n"
   ]
  },
  {
   "cell_type": "code",
   "execution_count": 23,
   "id": "ee251828",
   "metadata": {},
   "outputs": [
    {
     "data": {
      "image/png": "[encoded data removed]",
      "text/plain": [
       "<PIL.Image.Image image mode=RGB size=64x64 at 0x1BA1A542460>"
      ]
     },
     "execution_count": 23,
     "metadata": {},
     "output_type": "execute_result"
    }
   ],
   "source": [
    "img"
   ]
  },
  {
   "cell_type": "code",
   "execution_count": 24,
   "id": "6524309a",
   "metadata": {},
   "outputs": [
    {
     "name": "stdout",
     "output_type": "stream",
     "text": [
      "1/1 [==============================] - 0s 32ms/step\n",
      "predicted flower is rose\n"
     ]
    }
   ],
   "source": [
    "x=image.img_to_array(img)\n",
    "x=np.expand_dims(x,axis=0)\n",
    "pred_prob=model.predict(x)\n",
    "pred_id=pred_prob.argmax(axis=1)[0]\n",
    "print(\"predicted flower is\",str(class_name[pred_id]))"
   ]
  },
  {
   "cell_type": "code",
   "execution_count": 25,
   "id": "9ea06141",
   "metadata": {},
   "outputs": [],
   "source": [
    "img=image.load_img(r\"D:\\New folder\\ibm\\assignment 3\\tulip.jpg\",target_size=(64,64))"
   ]
  },
  {
   "cell_type": "code",
   "execution_count": 26,
   "id": "48b163c1",
   "metadata": {},
   "outputs": [
    {
     "data": {
      "image/png": "[encoded data removed]",
      "text/plain": [
       "<PIL.Image.Image image mode=RGB size=64x64 at 0x1BA140267C0>"
      ]
     },
     "execution_count": 26,
     "metadata": {},
     "output_type": "execute_result"
    }
   ],
   "source": [
    "img"
   ]
  },
  {
   "cell_type": "code",
   "execution_count": 27,
   "id": "6bc3c691",
   "metadata": {},
   "outputs": [
    {
     "name": "stdout",
     "output_type": "stream",
     "text": [
      "1/1 [==============================] - 0s 48ms/step\n",
      "predicted flower is tulip\n"
     ]
    }
   ],
   "source": [
    "x=image.img_to_array(img)\n",
    "x=np.expand_dims(x,axis=0)\n",
    "pred_prob=model.predict(x)\n",
    "pred_id=pred_prob.argmax(axis=1)[0]\n",
    "print(\"predicted flower is\",str(class_name[pred_id]))"
   ]
  },
  {
   "cell_type": "code",
   "execution_count": null,
   "id": "2df08855",
   "metadata": {},
   "outputs": [],
   "source": []
  }
 ],
 "metadata": {
  "kernelspec": {
   "display_name": "Python 3 (ipykernel)",
   "language": "python",
   "name": "python3"
  },
  "language_info": {
   "codemirror_mode": {
    "name": "ipython",
    "version": 3
   },
   "file_extension": ".py",
   "mimetype": "text/x-python",
   "name": "python",
   "nbconvert_exporter": "python",
   "pygments_lexer": "ipython3",
   "version": "3.9.12"
  }
 },
 "nbformat": 4,
 "nbformat_minor": 5
}
